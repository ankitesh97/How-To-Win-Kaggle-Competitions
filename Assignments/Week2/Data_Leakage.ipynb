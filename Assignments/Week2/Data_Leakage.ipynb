{
 "cells": [
  {
   "cell_type": "markdown",
   "metadata": {},
   "source": [
    "Version 1.0.0"
   ]
  },
  {
   "cell_type": "markdown",
   "metadata": {},
   "source": [
    "# Introduction"
   ]
  },
  {
   "cell_type": "markdown",
   "metadata": {},
   "source": [
    "In this programming assignment we will illustrate a very severe data leakage, that can often be found in competitions, where the pairs of object should be scored, e.g. predict $1$ if two objects belong to the same class and $0$ otherwise. \n",
    "\n",
    "The data in this assignment is taken from a real competition, and the funniest thing is that *we will not use training set at all* and achieve almost 100% accuracy score! We will just exploit the leakage.\n",
    "\n",
    "Now go through the notebook and complete the assignment."
   ]
  },
  {
   "cell_type": "code",
   "execution_count": 50,
   "metadata": {
    "collapsed": true
   },
   "outputs": [],
   "source": [
    "import numpy as np\n",
    "import pandas as pd \n",
    "import scipy.sparse\n",
    "import matplotlib.pyplot as plt"
   ]
  },
  {
   "cell_type": "markdown",
   "metadata": {},
   "source": [
    "# Load the data"
   ]
  },
  {
   "cell_type": "markdown",
   "metadata": {},
   "source": [
    "Let's load the test data. Note, that we don't have any training data here, just test data. Moreover, *we will not even use any features* of test objects. All we need to solve this task is the file with the indices for the pairs, that we need to compare."
   ]
  },
  {
   "cell_type": "markdown",
   "metadata": {},
   "source": [
    "Let's load the data with test indices."
   ]
  },
  {
   "cell_type": "code",
   "execution_count": 51,
   "metadata": {},
   "outputs": [
    {
     "data": {
      "text/html": [
       "<div>\n",
       "<style>\n",
       "    .dataframe thead tr:only-child th {\n",
       "        text-align: right;\n",
       "    }\n",
       "\n",
       "    .dataframe thead th {\n",
       "        text-align: left;\n",
       "    }\n",
       "\n",
       "    .dataframe tbody tr th {\n",
       "        vertical-align: top;\n",
       "    }\n",
       "</style>\n",
       "<table border=\"1\" class=\"dataframe\">\n",
       "  <thead>\n",
       "    <tr style=\"text-align: right;\">\n",
       "      <th></th>\n",
       "      <th>pairId</th>\n",
       "      <th>FirstId</th>\n",
       "      <th>SecondId</th>\n",
       "    </tr>\n",
       "  </thead>\n",
       "  <tbody>\n",
       "    <tr>\n",
       "      <th>0</th>\n",
       "      <td>0</td>\n",
       "      <td>1427</td>\n",
       "      <td>8053</td>\n",
       "    </tr>\n",
       "    <tr>\n",
       "      <th>1</th>\n",
       "      <td>1</td>\n",
       "      <td>17044</td>\n",
       "      <td>7681</td>\n",
       "    </tr>\n",
       "    <tr>\n",
       "      <th>2</th>\n",
       "      <td>2</td>\n",
       "      <td>19237</td>\n",
       "      <td>20966</td>\n",
       "    </tr>\n",
       "    <tr>\n",
       "      <th>3</th>\n",
       "      <td>3</td>\n",
       "      <td>8005</td>\n",
       "      <td>20765</td>\n",
       "    </tr>\n",
       "    <tr>\n",
       "      <th>4</th>\n",
       "      <td>4</td>\n",
       "      <td>16837</td>\n",
       "      <td>599</td>\n",
       "    </tr>\n",
       "    <tr>\n",
       "      <th>5</th>\n",
       "      <td>5</td>\n",
       "      <td>3657</td>\n",
       "      <td>12504</td>\n",
       "    </tr>\n",
       "    <tr>\n",
       "      <th>6</th>\n",
       "      <td>6</td>\n",
       "      <td>2836</td>\n",
       "      <td>7582</td>\n",
       "    </tr>\n",
       "    <tr>\n",
       "      <th>7</th>\n",
       "      <td>7</td>\n",
       "      <td>6136</td>\n",
       "      <td>6111</td>\n",
       "    </tr>\n",
       "    <tr>\n",
       "      <th>8</th>\n",
       "      <td>8</td>\n",
       "      <td>23295</td>\n",
       "      <td>9817</td>\n",
       "    </tr>\n",
       "    <tr>\n",
       "      <th>9</th>\n",
       "      <td>9</td>\n",
       "      <td>6621</td>\n",
       "      <td>7672</td>\n",
       "    </tr>\n",
       "  </tbody>\n",
       "</table>\n",
       "</div>"
      ],
      "text/plain": [
       "   pairId  FirstId  SecondId\n",
       "0       0     1427      8053\n",
       "1       1    17044      7681\n",
       "2       2    19237     20966\n",
       "3       3     8005     20765\n",
       "4       4    16837       599\n",
       "5       5     3657     12504\n",
       "6       6     2836      7582\n",
       "7       7     6136      6111\n",
       "8       8    23295      9817\n",
       "9       9     6621      7672"
      ]
     },
     "execution_count": 51,
     "metadata": {},
     "output_type": "execute_result"
    }
   ],
   "source": [
    "test = pd.read_csv('../readonly/data_leakages_data/test_pairs.csv')\n",
    "test.head(10)"
   ]
  },
  {
   "cell_type": "markdown",
   "metadata": {},
   "source": [
    "For example, we can think that there is a test dataset of images, and each image is assigned a unique `Id` from $0$ to $N-1$ (N -- is the number of images). In the dataframe from above `FirstId` and `SecondId` point to these `Id`'s and define pairs, that we should compare: e.g. do both images in the pair belong to the same class or not. So, for example for the first row: if images with `Id=1427` and `Id=8053` belong to the same class, we should predict $1$, and $0$ otherwise. \n",
    "\n",
    "But in our case we don't really care about the images, and how exactly we compare the images (as long as comparator is binary).  "
   ]
  },
  {
   "cell_type": "markdown",
   "metadata": {},
   "source": [
    "**We suggest you to try to solve the puzzle yourself first.** You need to submit a `.csv` file with columns `pairId` and `Prediction` to the grader. The number of submissions allowed is made pretty huge to let you explore the data without worries. The returned score should be very close to $1$."
   ]
  },
  {
   "cell_type": "markdown",
   "metadata": {},
   "source": [
    "**If you do not want to think much** -- scroll down and follow the instructions below."
   ]
  },
  {
   "cell_type": "code",
   "execution_count": 52,
   "metadata": {},
   "outputs": [
    {
     "name": "stdout",
     "output_type": "stream",
     "text": [
      "total -  368550\n",
      "0        21\n",
      "1261     21\n",
      "1517     21\n",
      "1658     21\n",
      "123      21\n",
      "379      21\n",
      "635      21\n",
      "891      21\n",
      "1147     21\n",
      "1146     21\n",
      "1403     21\n",
      "1659     21\n",
      "124      21\n",
      "380      21\n",
      "636      21\n",
      "892      21\n",
      "1402     21\n",
      "890      21\n",
      "1148     21\n",
      "377      21\n",
      "632      21\n",
      "888      21\n",
      "1144     21\n",
      "1400     21\n",
      "1656     21\n",
      "121      21\n",
      "633      21\n",
      "634      21\n",
      "889      21\n",
      "1145     21\n",
      "         ..\n",
      "25194     7\n",
      "25875     7\n",
      "25801     7\n",
      "25079     7\n",
      "25485     7\n",
      "24938     7\n",
      "25545     7\n",
      "25602     7\n",
      "24632     7\n",
      "25934     7\n",
      "25229     7\n",
      "25619     7\n",
      "25289     7\n",
      "25327     7\n",
      "24493     7\n",
      "24295     7\n",
      "25858     7\n",
      "24973     7\n",
      "25033     7\n",
      "24574     7\n",
      "24888     7\n",
      "25678     7\n",
      "24777     7\n",
      "24527     7\n",
      "25363     7\n",
      "25579     7\n",
      "25706     7\n",
      "25003     7\n",
      "24271     7\n",
      "24899     7\n",
      "Name: FirstId, Length: 26325, dtype: int64\n"
     ]
    },
    {
     "name": "stderr",
     "output_type": "stream",
     "text": [
      "/opt/conda/lib/python3.6/site-packages/matplotlib/figure.py:1743: UserWarning: This figure includes Axes that are not compatible with tight_layout, so its results might be incorrect.\n",
      "  warnings.warn(\"This figure includes Axes that are not \"\n"
     ]
    },
    {
     "name": "stdout",
     "output_type": "stream",
     "text": [
      "12194    23\n",
      "12223    22\n",
      "12279    22\n",
      "12162    22\n",
      "12141    22\n",
      "12254    22\n",
      "12137    22\n",
      "12218    22\n",
      "12181    22\n",
      "12173    22\n",
      "12214    22\n",
      "12144    22\n",
      "12166    22\n",
      "12206    22\n",
      "12121    22\n",
      "12220    22\n",
      "12177    22\n",
      "12227    22\n",
      "12133    22\n",
      "12185    22\n",
      "12280    22\n",
      "12151    22\n",
      "12186    22\n",
      "12243    22\n",
      "12175    22\n",
      "12153    22\n",
      "12114    22\n",
      "12119    22\n",
      "12213    22\n",
      "12256    22\n",
      "         ..\n",
      "26142     2\n",
      "26137     2\n",
      "26139     2\n",
      "26131     2\n",
      "26143     2\n",
      "26133     2\n",
      "26134     2\n",
      "26132     2\n",
      "26136     2\n",
      "26140     2\n",
      "26135     2\n",
      "26130     2\n",
      "26144     2\n",
      "26141     2\n",
      "26138     2\n",
      "26128     1\n",
      "26115     1\n",
      "26119     1\n",
      "26124     1\n",
      "26116     1\n",
      "26129     1\n",
      "26120     1\n",
      "26127     1\n",
      "26123     1\n",
      "26117     1\n",
      "26121     1\n",
      "26126     1\n",
      "26118     1\n",
      "26125     1\n",
      "26122     1\n",
      "Name: SecondId, Length: 26310, dtype: int64\n"
     ]
    },
    {
     "data": {
      "image/png": "[encoded data removed]",
      "text/plain": [
       "<matplotlib.figure.Figure at 0x7f10ccedc1d0>"
      ]
     },
     "metadata": {},
     "output_type": "display_data"
    }
   ],
   "source": [
    "total = len(test)\n",
    "submission = test.copy()\n",
    "submission['class'] = 0\n",
    "submission['found'] = False\n",
    "unique_FirstId = test['FirstId'].value_counts()\n",
    "unique_SecondId = test['SecondId'].value_counts()\n",
    "print(\"total - \", total)\n",
    "print(unique_FirstId)\n",
    "print(unique_SecondId)\n",
    "\n",
    "def get_first(id):\n",
    "    return unique_FirstId[id]\n",
    "\n",
    "\n",
    "def get_second(id):\n",
    "    return unique_SecondId[id]\n",
    "\n",
    "#let's plot the distribution of the ids\n",
    "\n",
    "fig, axs = plt.subplots(1, 2, sharey=True, tight_layout=True)\n",
    "\n",
    "# We can set the number of bins with the `bins` kwarg\n",
    "axs[0].hist(unique_FirstId, bins=10)\n",
    "axs[1].hist(unique_SecondId, bins=10)\n",
    "# hist_First = unique_FirstId.hist()\n",
    "# hist_First\n",
    "plt.show()\n"
   ]
  },
  {
   "cell_type": "code",
   "execution_count": 53,
   "metadata": {},
   "outputs": [
    {
     "name": "stdout",
     "output_type": "stream",
     "text": [
      "        pairId  FirstId  SecondId\n",
      "186443  186443      300       300\n",
      "218927  218927     2551      2551\n",
      "221189  221189     8046      8046\n",
      "228783  228783     2799      2799\n",
      "293834  293834      292       292\n",
      "327330  327330    10404     10404\n",
      "368544\n"
     ]
    },
    {
     "name": "stderr",
     "output_type": "stream",
     "text": [
      "/opt/conda/lib/python3.6/site-packages/ipykernel_launcher.py:5: SettingWithCopyWarning: \n",
      "A value is trying to be set on a copy of a slice from a DataFrame\n",
      "\n",
      "See the caveats in the documentation: http://pandas.pydata.org/pandas-docs/stable/indexing.html#indexing-view-versus-copy\n",
      "  \"\"\"\n",
      "/opt/conda/lib/python3.6/site-packages/ipykernel_launcher.py:6: SettingWithCopyWarning: \n",
      "A value is trying to be set on a copy of a slice from a DataFrame\n",
      "\n",
      "See the caveats in the documentation: http://pandas.pydata.org/pandas-docs/stable/indexing.html#indexing-view-versus-copy\n",
      "  \n"
     ]
    }
   ],
   "source": [
    "#first get the counts and ids of the rows where both of them contain the same id\n",
    "equal_rows = test[test['FirstId'] == test['SecondId']]\n",
    "left = total - len(equal_rows)\n",
    "print(equal_rows)\n",
    "submission['class'][equal_rows.index] = 1\n",
    "submission['class']['found'] = True\n",
    "print(left)"
   ]
  },
  {
   "cell_type": "code",
   "execution_count": 54,
   "metadata": {},
   "outputs": [
    {
     "name": "stdout",
     "output_type": "stream",
     "text": [
      "total images 26325, max 26324, min 0 \n"
     ]
    }
   ],
   "source": [
    "#total different images (with least and max)\n",
    "concateneated = pd.DataFrame(test['FirstId'].tolist() + test['SecondId'].tolist(),columns=['Id'])\n",
    "uniques = concateneated['Id'].unique()\n",
    "total_uniques = len(uniques)\n",
    "max_id = max(uniques)\n",
    "min_id = min(uniques)\n",
    "print(\"total images %s, max %s, min %s \" %(total_uniques, max_id,  min_id))"
   ]
  },
  {
   "cell_type": "code",
   "execution_count": 55,
   "metadata": {},
   "outputs": [
    {
     "name": "stdout",
     "output_type": "stream",
     "text": [
      "   f  s\n",
      "0  1  2\n",
      "1  1  3\n",
      "2  2  3\n",
      "3  3  1\n",
      "4  2  1\n",
      "   f  s  0\n",
      "0  1  2  1\n",
      "1  1  3  1\n",
      "2  2  1  1\n",
      "3  2  3  1\n",
      "4  3  1  1\n"
     ]
    }
   ],
   "source": [
    "#unique rows in the dataset irrespective of the order\n",
    "df = pd.DataFrame([[1,2],[1,3],[2,3],[3,1],[2,1]], columns=['f','s'])\n",
    "print(df.head())\n",
    "grp = df.groupby(['f','s'],sort=True)\n",
    "print(grp.size().reset_index())"
   ]
  },
  {
   "cell_type": "code",
   "execution_count": 56,
   "metadata": {
    "collapsed": true
   },
   "outputs": [],
   "source": [
    "#let's assume N classes are there and then check by splitting the d.s symmetrically\n",
    "N = 10\n",
    "split_point = int(max_id/N)\n",
    "def get_bin(Id):\n",
    "    if(Id == 0):\n",
    "        return 0\n",
    "    if(Id % split_point==0):\n",
    "        return Id/split_point - 1\n",
    "    \n",
    "    return int(Id/split_point)\n",
    "    "
   ]
  },
  {
   "cell_type": "code",
   "execution_count": 57,
   "metadata": {},
   "outputs": [
    {
     "name": "stdout",
     "output_type": "stream",
     "text": [
      "2632\n",
      "   pairId  FirstId  SecondId  class  found\n",
      "0       0     1427      8053      0  False\n",
      "1       1    17044      7681      0  False\n",
      "2       2    19237     20966      1  False\n",
      "3       3     8005     20765      0  False\n",
      "4       4    16837       599      0  False\n"
     ]
    },
    {
     "name": "stderr",
     "output_type": "stream",
     "text": [
      "/opt/conda/lib/python3.6/site-packages/ipykernel_launcher.py:4: SettingWithCopyWarning: \n",
      "A value is trying to be set on a copy of a slice from a DataFrame\n",
      "\n",
      "See the caveats in the documentation: http://pandas.pydata.org/pandas-docs/stable/indexing.html#indexing-view-versus-copy\n",
      "  after removing the cwd from sys.path.\n"
     ]
    }
   ],
   "source": [
    "\n",
    "submission['class'] = 0\n",
    "print(split_point)\n",
    "submission['class'][(submission['FirstId'].apply(get_bin)) == (submission['SecondId'].apply(get_bin))] = 1\n",
    "print(submission.head())"
   ]
  },
  {
   "cell_type": "code",
   "execution_count": 58,
   "metadata": {
    "collapsed": true
   },
   "outputs": [],
   "source": [
    "#let's submit all ones\n",
    "#let's submit all ones\n",
    "\n",
    "submission['counts'] = abs(submission['FirstId'].apply(get_first) - submission['SecondId'].apply(get_second))\n"
   ]
  },
  {
   "cell_type": "code",
   "execution_count": 60,
   "metadata": {},
   "outputs": [
    {
     "name": "stdout",
     "output_type": "stream",
     "text": [
      "1     45551\n",
      "2     42090\n",
      "3     38595\n",
      "4     35131\n",
      "5     31636\n",
      "6     28215\n",
      "7     24720\n",
      "8     24420\n",
      "0     24328\n",
      "9     20925\n",
      "10    17489\n",
      "11    13994\n",
      "12    10515\n",
      "13     7020\n",
      "14     3542\n",
      "15      242\n",
      "16       47\n",
      "17       30\n",
      "18       30\n",
      "19       15\n",
      "20       15\n",
      "Name: counts, dtype: int64\n"
     ]
    }
   ],
   "source": [
    "counts = submission['counts'].value_counts()\n",
    "print(counts)"
   ]
  },
  {
   "cell_type": "code",
   "execution_count": 66,
   "metadata": {},
   "outputs": [],
   "source": [
    "#get the split point\n",
    "running_sum = []\n",
    "running_sum.append(counts[0])\n",
    "for i in range(1,21):\n",
    "    running_sum.append(running_sum[i-1] + counts[i])"
   ]
  },
  {
   "cell_type": "code",
   "execution_count": 70,
   "metadata": {},
   "outputs": [
    {
     "name": "stdout",
     "output_type": "stream",
     "text": [
      "24328 344222\n",
      "69879 298671\n",
      "111969 256581\n",
      "150564 217986\n",
      "185695 182855\n",
      "217331 151219\n",
      "245546 123004\n",
      "270266 98284\n",
      "294686 73864\n",
      "315611 52939\n",
      "333100 35450\n",
      "347094 21456\n",
      "357609 10941\n",
      "364629 3921\n",
      "368171 379\n",
      "368413 137\n",
      "368460 90\n",
      "368490 60\n",
      "368520 30\n",
      "368535 15\n",
      "368550 0\n",
      "4\n"
     ]
    }
   ],
   "source": [
    "min_diff = 1000000\n",
    "min_index = -1\n",
    "for i in range(21):\n",
    "    print(running_sum[i], (running_sum[-1] - running_sum[i]))\n",
    "    if(abs(running_sum[i] - (running_sum[-1] - running_sum[i])) <= min_diff):\n",
    "        min_diff = abs(running_sum[i] - (running_sum[-1] - running_sum[i]))\n",
    "        min_index = i\n",
    "        \n",
    "        \n",
    "print(min_index)"
   ]
  },
  {
   "cell_type": "code",
   "execution_count": 73,
   "metadata": {},
   "outputs": [
    {
     "name": "stderr",
     "output_type": "stream",
     "text": [
      "/opt/conda/lib/python3.6/site-packages/ipykernel_launcher.py:2: SettingWithCopyWarning: \n",
      "A value is trying to be set on a copy of a slice from a DataFrame\n",
      "\n",
      "See the caveats in the documentation: http://pandas.pydata.org/pandas-docs/stable/indexing.html#indexing-view-versus-copy\n",
      "  \n"
     ]
    }
   ],
   "source": [
    "submission['class'] = 0\n",
    "submission['class'][submission['counts']<=5] = 1"
   ]
  },
  {
   "cell_type": "code",
   "execution_count": 74,
   "metadata": {
    "collapsed": true
   },
   "outputs": [],
   "source": [
    "submission2 = test.loc[:,['pairId']]\n",
    "submission2['Prediction'] = submission['class'].astype(int)\n",
    "submission2.to_csv('submission.csv', index=False)"
   ]
  },
  {
   "cell_type": "markdown",
   "metadata": {},
   "source": [
    "# EDA and leakage intuition"
   ]
  },
  {
   "cell_type": "markdown",
   "metadata": {},
   "source": [
    "As we already know, the key to discover data leakages is careful EDA. So let's start our work with some basic data exploration and build an intuition about the leakage."
   ]
  },
  {
   "cell_type": "markdown",
   "metadata": {},
   "source": [
    "First, check, how many different `id`s are there: concatenate `FirstId` and `SecondId` and print the number of unique elements. Also print minimum and maximum value for that vector."
   ]
  },
  {
   "cell_type": "code",
   "execution_count": 14,
   "metadata": {
    "collapsed": true
   },
   "outputs": [],
   "source": [
    "# YOUR CODE GOES HERE"
   ]
  },
  {
   "cell_type": "markdown",
   "metadata": {},
   "source": [
    "and then print how many pairs we need to classify (it is basically the number of rows in the test set)"
   ]
  },
  {
   "cell_type": "code",
   "execution_count": 15,
   "metadata": {
    "collapsed": true
   },
   "outputs": [],
   "source": [
    "# YOUR CODE GOES HERE"
   ]
  },
  {
   "cell_type": "markdown",
   "metadata": {},
   "source": [
    "Now print, how many distinct pairs it would be possible to create out of all \"images\" in the dataset?   "
   ]
  },
  {
   "cell_type": "code",
   "execution_count": 16,
   "metadata": {
    "collapsed": true
   },
   "outputs": [],
   "source": [
    "# YOUR CODE GOES HERE"
   ]
  },
  {
   "cell_type": "markdown",
   "metadata": {},
   "source": [
    "So the number of pairs we are given to classify is very very small compared to the total number of pairs. \n",
    "\n",
    "To exploit the leak we need to **assume (or prove)**, that the total number of positive pairs is small, compared to the total number of pairs. For example: think about an image dataset with $1000$ classes, $N$ images per class. Then if the task was to tell whether a pair of images belongs to the same class or not, we would have $1000\\frac{N(N-1)}{2}$ positive pairs, while total number of pairs was $\\frac{1000N(1000N - 1)}{2}$.\n",
    "\n",
    "Another example: in [Quora competitition](https://www.kaggle.com/c/quora-question-pairs) the task was to classify whether a pair of qustions are duplicates of each other or not. Of course, total number of question pairs is very huge, while number of duplicates (positive pairs) is much much smaller."
   ]
  },
  {
   "cell_type": "markdown",
   "metadata": {
    "collapsed": true
   },
   "source": [
    "Finally, let's get a fraction of pairs of class `1`. We just need to submit a constant prediction \"all ones\" and check the returned accuracy. Create a dataframe with columns `pairId` and `Prediction`, fill it and export it to `.csv` file. Then submit to grader and examine grader's output. "
   ]
  },
  {
   "cell_type": "code",
   "execution_count": null,
   "metadata": {
    "collapsed": true
   },
   "outputs": [],
   "source": [
    "# YOUR CODE GOES HERE"
   ]
  },
  {
   "cell_type": "markdown",
   "metadata": {},
   "source": [
    "So, we assumed the total number of pairs is much higher than the number of positive pairs, but it is not the case for the test set. It means that the test set is constructed not by sampling random pairs, but with a specific sampling algorithm. Pairs of class `1` are oversampled.\n",
    "\n",
    "Now think, how we can exploit this fact? What is the leak here? If you get it now, you may try to get to the final answer yourself, othewise you can follow the instructions below.   "
   ]
  },
  {
   "cell_type": "code",
   "execution_count": null,
   "metadata": {
    "collapsed": true
   },
   "outputs": [],
   "source": []
  },
  {
   "cell_type": "code",
   "execution_count": null,
   "metadata": {
    "collapsed": true
   },
   "outputs": [],
   "source": []
  },
  {
   "cell_type": "code",
   "execution_count": null,
   "metadata": {
    "collapsed": true
   },
   "outputs": [],
   "source": []
  },
  {
   "cell_type": "code",
   "execution_count": null,
   "metadata": {
    "collapsed": true
   },
   "outputs": [],
   "source": []
  },
  {
   "cell_type": "markdown",
   "metadata": {},
   "source": [
    "# Building a magic feature"
   ]
  },
  {
   "cell_type": "markdown",
   "metadata": {},
   "source": [
    "In this section we will build a magic feature, that will solve the problem almost perfectly. The instructions will lead you to the correct solution, but please, try to explain the purpose of the steps we do to yourself -- it is very important."
   ]
  },
  {
   "cell_type": "markdown",
   "metadata": {},
   "source": [
    "## Incidence matrix"
   ]
  },
  {
   "cell_type": "markdown",
   "metadata": {},
   "source": [
    "First, we need to build an [incidence matrix](https://en.wikipedia.org/wiki/Incidence_matrix). You can think of pairs `(FirstId, SecondId)` as of edges in an undirected graph. \n",
    "\n",
    "The incidence matrix is a matrix of size `(maxId + 1, maxId + 1)`, where each row (column) `i` corresponds `i-th` `Id`. In this matrix we put the value `1` to the position `[i, j]`, if and only if a pair `(i, j)` or `(j, i)` is present in  a given set of pais `(FirstId, SecondId)`. All the other elements in the incidence matrix are zeros.   \n",
    "\n",
    "**Important!** The incidence matrices are typically very very sparse (small number of non-zero values). At the same time incidence matrices are usually huge in terms of total number of elements, and it is **impossible to store them in memory in dense format**. But due to their sparsity incidence matrices **can be easily represented as sparse matrices**. If you are not familiar with sparse matrices, please see [wiki](https://en.wikipedia.org/wiki/Sparse_matrix) and [scipy.sparse reference](https://docs.scipy.org/doc/scipy/reference/sparse.html). Please, use any of `scipy.sparse` constructors to build incidence matrix. \n",
    "\n",
    "For example, you can use this constructor: `scipy.sparse.coo_matrix((data, (i, j)))`. We highly recommend to learn to use different `scipy.sparse` constuctors, and matrices types, but if you feel you don't want to use them, you can always build this matrix with a simple `for` loop. You will need first to create a matrix using `scipy.sparse.coo_matrix((M, N), [dtype])` with an appropriate shape `(M, N)` and then iterate through `(FirstId, SecondId)` pairs and fill corresponding elements in matrix with ones. \n",
    "\n",
    "**Note**, that the matrix should be symmetric and consist only of zeros and ones. It is a way to check yourself."
   ]
  },
  {
   "cell_type": "code",
   "execution_count": 25,
   "metadata": {
    "collapsed": true
   },
   "outputs": [],
   "source": [
    "\n",
    "rows = np.array(test['FirstId'])\n",
    "cols = np.array(test['SecondId'])\n",
    "mat_ij = test[['FirstId', 'SecondId']].values\n",
    "mat_ji = test[['SecondId', 'FirstId']].values\n",
    "joined = np.concatenate([mat_ij,mat_ji])\n",
    "uniques = np.unique(joined,axis=0)\n",
    "ones = np.ones(len(uniques))\n",
    "inc_mat = scipy.sparse.coo_matrix((ones, (uniques[:,0], uniques[:,1])), shape=[max_id+1, max_id+1])\n",
    "\n",
    "# Sanity checks\n",
    "assert inc_mat.max() == 1\n",
    "assert inc_mat.sum() == 736872"
   ]
  },
  {
   "cell_type": "markdown",
   "metadata": {},
   "source": [
    "It is convenient to have matrix in `csr` format eventually."
   ]
  },
  {
   "cell_type": "code",
   "execution_count": 26,
   "metadata": {
    "collapsed": true
   },
   "outputs": [],
   "source": [
    "inc_mat = inc_mat.tocsr()"
   ]
  },
  {
   "cell_type": "markdown",
   "metadata": {},
   "source": [
    "## Now build the magic feature"
   ]
  },
  {
   "cell_type": "markdown",
   "metadata": {},
   "source": [
    "Why did we build the incidence matrix? We can think of the rows in this matix as of representations for the objects. `i-th` row is a representation for an object with `Id = i`. Then, to measure similarity between two objects we can measure similarity between their representations. And we will see, that such representations are very good."
   ]
  },
  {
   "cell_type": "markdown",
   "metadata": {},
   "source": [
    "Now select the rows from the incidence matrix, that correspond to `test.FirstId`'s, and `test.SecondId`'s."
   ]
  },
  {
   "cell_type": "code",
   "execution_count": 37,
   "metadata": {},
   "outputs": [
    {
     "name": "stdout",
     "output_type": "stream",
     "text": [
      "[ 1427 17044 19237 ..., 25407 25305  1767]\n",
      "  (0, 24669)\t1.0\n",
      "  (0, 24420)\t1.0\n",
      "  (0, 22945)\t1.0\n",
      "  (0, 22689)\t1.0\n",
      "  (0, 22288)\t1.0\n",
      "  (0, 20813)\t1.0\n",
      "  (0, 20558)\t1.0\n",
      "  (0, 19083)\t1.0\n",
      "  (0, 17746)\t1.0\n",
      "  (0, 17491)\t1.0\n",
      "  (0, 17301)\t1.0\n",
      "  (0, 15819)\t1.0\n",
      "  (0, 14546)\t1.0\n",
      "  (0, 14291)\t1.0\n",
      "  (0, 13829)\t1.0\n",
      "  (0, 12360)\t1.0\n",
      "  (0, 11488)\t1.0\n",
      "  (0, 11235)\t1.0\n",
      "  (0, 9366)\t1.0\n",
      "  (0, 9136)\t1.0\n",
      "  (0, 8053)\t1.0\n",
      "  (0, 7797)\t1.0\n",
      "  (0, 5648)\t1.0\n",
      "  (0, 5394)\t1.0\n",
      "  (0, 4993)\t1.0\n",
      "  :\t:\n",
      "  (0, 1371)\t1.0\n",
      "  (0, 1209)\t1.0\n",
      "  (0, 1171)\t1.0\n",
      "  (0, 541)\t1.0\n",
      "  (1, 25889)\t1.0\n",
      "  (1, 24165)\t1.0\n",
      "  (1, 22034)\t1.0\n",
      "  (1, 20305)\t1.0\n",
      "  (1, 18973)\t1.0\n",
      "  (1, 14035)\t1.0\n",
      "  (1, 13577)\t1.0\n",
      "  (1, 12261)\t1.0\n",
      "  (1, 10979)\t1.0\n",
      "  (1, 10407)\t1.0\n",
      "  (1, 8884)\t1.0\n",
      "  (1, 8699)\t1.0\n",
      "  (1, 7681)\t1.0\n",
      "  (1, 7540)\t1.0\n",
      "  (1, 6872)\t1.0\n",
      "  (1, 6066)\t1.0\n",
      "  (1, 4738)\t1.0\n",
      "  (1, 3210)\t1.0\n",
      "  (1, 2507)\t1.0\n",
      "  (1, 915)\t1.0\n",
      "  (1, 310)\t1.0\n"
     ]
    }
   ],
   "source": [
    "# Note, scipy goes crazy if a matrix is indexed with pandas' series. \n",
    "# So do not forget to convert `pd.series` to `np.array`\n",
    "# These lines should normally run very quickly \n",
    "\n",
    "rows_FirstId   = inc_mat[test['FirstId'].values] # YOUR CODE GOES HERE\n",
    "rows_SecondId  = inc_mat[test['SecondId'].values]\n",
    "print(test['FirstId'].values)\n",
    "print(inc_mat[[1427,17044]])"
   ]
  },
  {
   "cell_type": "markdown",
   "metadata": {},
   "source": [
    "Our magic feature will be the *dot product* between representations of a pair of objects. Dot product can be regarded as similarity measure -- for our non-negative representations the dot product is close to 0 when the representations are different, and is huge, when representations are similar. \n",
    "\n",
    "Now compute dot product between corresponding rows in `rows_FirstId` and `rows_SecondId` matrices."
   ]
  },
  {
   "cell_type": "code",
   "execution_count": 44,
   "metadata": {
    "collapsed": true
   },
   "outputs": [],
   "source": [
    "# Note, that in order to do pointwise multiplication in scipy.sparse you need to use function `multiply`\n",
    "# regular `*` corresponds to matrix-matrix multiplication\n",
    "\n",
    "f = rows_FirstId.multiply(rows_SecondId)\n",
    "f = np.squeeze(np.array(f.sum(axis=1)))\n",
    "# Sanity check\n",
    "assert f.shape == (368550, )"
   ]
  },
  {
   "cell_type": "markdown",
   "metadata": {},
   "source": [
    "That is it! **We've built our magic feature.** "
   ]
  },
  {
   "cell_type": "markdown",
   "metadata": {},
   "source": [
    "# From magic feature to binary predictions"
   ]
  },
  {
   "cell_type": "markdown",
   "metadata": {},
   "source": [
    "But how do we convert this feature into binary predictions? We do not have a train set to learn a model, but we have a piece of information about test set: the baseline accuracy score that you got, when submitting constant. And we also have a very strong considerations about the data generative process, so probably we will be fine even without a training set. "
   ]
  },
  {
   "cell_type": "markdown",
   "metadata": {},
   "source": [
    "We may try to choose a thresold, and set the predictions to 1, if the feature value `f` is higer than the threshold, and 0 otherwise. What threshold would you choose? "
   ]
  },
  {
   "cell_type": "markdown",
   "metadata": {},
   "source": [
    "How do we find a right threshold? Let's first examine this feature: print frequencies (or counts) of each value in the feature `f`."
   ]
  },
  {
   "cell_type": "code",
   "execution_count": 46,
   "metadata": {},
   "outputs": [
    {
     "name": "stdout",
     "output_type": "stream",
     "text": [
      "(array([ 14.,  15.,  19.,  20.,  21.,  28.,  35.]), array([183279,    852,    546, 183799,      6,     54,     14]))\n"
     ]
    }
   ],
   "source": [
    "# For example use `np.unique` function, check for flags\n",
    "freq = np.unique(f, return_counts=True)\n",
    "print(freq)"
   ]
  },
  {
   "cell_type": "markdown",
   "metadata": {},
   "source": [
    "Do you see how this feature clusters the pairs? Maybe you can guess a good threshold by looking at the values? \n",
    "\n",
    "In fact, in other situations it can be not that obvious, but in general to pick a threshold you only need to remember the score of your baseline submission and use this information. Do you understand why and how?  "
   ]
  },
  {
   "cell_type": "markdown",
   "metadata": {},
   "source": [
    "Choose a threshold below: "
   ]
  },
  {
   "cell_type": "code",
   "execution_count": 47,
   "metadata": {
    "collapsed": true
   },
   "outputs": [],
   "source": [
    "pred = f > 15 # SET THRESHOLD HERE"
   ]
  },
  {
   "cell_type": "markdown",
   "metadata": {},
   "source": [
    "# Finally, let's create a submission"
   ]
  },
  {
   "cell_type": "code",
   "execution_count": 49,
   "metadata": {
    "collapsed": true
   },
   "outputs": [],
   "source": [
    "submission2 = test.loc[:,['pairId']]\n",
    "submission2['Prediction'] = pred.astype(int)\n",
    "\n",
    "submission2.to_csv('submission.csv', index=False)"
   ]
  },
  {
   "cell_type": "markdown",
   "metadata": {},
   "source": [
    "Now submit it to the grader! It is not possible to submit directly from this notebook, as we need to submit a `csv` file, not a single number (limitation of Coursera platform). \n",
    "\n",
    "To download `submission.csv` file that you've just produced <a href='./submission.csv'>click here</a> (if the link opens in browser, right-click on it and shoose \"Save link as\"). Then go to [assignment page](https://www.coursera.org/learn/competitive-data-science/programming/KsASv/data-leakages/submission) and submit your `.csv` file in 'My submission' tab.\n",
    "\n",
    "\n",
    "If you did everything right, the score should be very high."
   ]
  },
  {
   "cell_type": "markdown",
   "metadata": {},
   "source": [
    "**Finally:** try to explain to yourself, why the whole thing worked out. In fact, there is no magic in this feature, and the idea to use rows in the incidence matrix can be intuitively justified."
   ]
  },
  {
   "cell_type": "markdown",
   "metadata": {},
   "source": [
    "# Bonus"
   ]
  },
  {
   "cell_type": "markdown",
   "metadata": {},
   "source": [
    "Interestingly, it is not the only leak in this dataset. There is another totally different way to get almost 100% accuracy. Try to find it!"
   ]
  }
 ],
 "metadata": {
  "kernelspec": {
   "display_name": "Python 3",
   "language": "python",
   "name": "python3"
  },
  "language_info": {
   "codemirror_mode": {
    "name": "ipython",
    "version": 3
   },
   "file_extension": ".py",
   "mimetype": "text/x-python",
   "name": "python",
   "nbconvert_exporter": "python",
   "pygments_lexer": "ipython3",
   "version": "3.6.2"
  }
 },
 "nbformat": 4,
 "nbformat_minor": 2
}
